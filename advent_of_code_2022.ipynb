{
 "cells": [
  {
   "cell_type": "markdown",
   "id": "5d3ce2cf",
   "metadata": {},
   "source": [
    "# Advent of Code 2022"
   ]
  },
  {
   "cell_type": "code",
   "execution_count": 1,
   "id": "cd6abddc",
   "metadata": {},
   "outputs": [],
   "source": [
    "import numpy as np\n",
    "import pandas \n",
    "import re\n",
    "import string"
   ]
  },
  {
   "cell_type": "markdown",
   "id": "49d8b1bf",
   "metadata": {},
   "source": [
    "## Day 1"
   ]
  },
  {
   "cell_type": "code",
   "execution_count": 2,
   "id": "ef3089f6",
   "metadata": {},
   "outputs": [],
   "source": [
    "with open('input_files/day1_input.txt', 'r') as f:\n",
    "    elf_list = f.read().split('\\n\\n')\n",
    "    \n",
    "with open('input_files/day1_test.txt', 'r') as f:\n",
    "    elf_list_test = f.read().split('\\n\\n')"
   ]
  },
  {
   "cell_type": "markdown",
   "id": "393bb665",
   "metadata": {},
   "source": [
    "### Part 1"
   ]
  },
  {
   "cell_type": "code",
   "execution_count": 3,
   "id": "9b58876a",
   "metadata": {},
   "outputs": [
    {
     "name": "stdout",
     "output_type": "stream",
     "text": [
      "70720\n",
      "24000\n"
     ]
    }
   ],
   "source": [
    "def calculate_calories(elf_list):\n",
    "    elves = []\n",
    "    for x in elf_list:\n",
    "        elf_totals = x.split('\\n')\n",
    "        elves.append(sum([int(x) for x in elf_totals]))\n",
    "\n",
    "    return max(elves)\n",
    "\n",
    "print(calculate_calories(elf_list))\n",
    "print(calculate_calories(elf_list_test))"
   ]
  },
  {
   "cell_type": "markdown",
   "id": "aaca5815",
   "metadata": {},
   "source": [
    "### Part 2"
   ]
  },
  {
   "cell_type": "code",
   "execution_count": 4,
   "id": "7ea18c8f",
   "metadata": {},
   "outputs": [
    {
     "name": "stdout",
     "output_type": "stream",
     "text": [
      "207148\n",
      "45000\n"
     ]
    }
   ],
   "source": [
    "def calculate_top3_calories(elf_list):\n",
    "    elves = []\n",
    "    for x in elf_list:\n",
    "        elf_totals = x.split('\\n')\n",
    "        elves.append(sum([int(x) for x in elf_totals]))\n",
    "    \n",
    "    elves = sorted(elves)\n",
    "    return sum(elves[-3:])\n",
    "\n",
    "print(calculate_top3_calories(elf_list))\n",
    "print(calculate_top3_calories(elf_list_test))"
   ]
  },
  {
   "cell_type": "markdown",
   "id": "64130505",
   "metadata": {},
   "source": [
    "## Day 2"
   ]
  },
  {
   "cell_type": "code",
   "execution_count": 5,
   "id": "713b0435",
   "metadata": {},
   "outputs": [],
   "source": [
    "with open('input_files/day2_input.txt', 'r') as f:\n",
    "    strategy_guide = f.read().split('\\n')\n",
    "    \n",
    "with open('input_files/day2_test.txt', 'r') as f:\n",
    "    strategy_guide_test = f.read().split('\\n')"
   ]
  },
  {
   "cell_type": "markdown",
   "id": "434ea61b",
   "metadata": {},
   "source": [
    "### Part 1"
   ]
  },
  {
   "cell_type": "code",
   "execution_count": 6,
   "id": "05aa2150",
   "metadata": {},
   "outputs": [
    {
     "name": "stdout",
     "output_type": "stream",
     "text": [
      "9241\n",
      "15\n"
     ]
    }
   ],
   "source": [
    "import pandas as pd\n",
    "\n",
    "def get_total_score(strat_guide):\n",
    "    \n",
    "    row_split = [x.split(' ') for x in strat_guide]\n",
    "    strat_df = pd.DataFrame(row_split, columns=['opponent_shape', 'your_shape'])\n",
    "    shape_map = {'X': 1, 'Y': 2, 'Z': 3}\n",
    "    outcome_map = {'lose': 0, 'draw': 3, 'win': 6}\n",
    "    \n",
    "    def who_wins(x):\n",
    "        if x['opponent_shape'] == 'A':\n",
    "            if x['your_shape'] == 'X':\n",
    "                return 'draw'\n",
    "            elif x['your_shape'] == 'Y':\n",
    "                return 'win'\n",
    "            elif x['your_shape'] == 'Z':\n",
    "                return 'lose'\n",
    "        elif x['opponent_shape'] == 'B':\n",
    "            if x['your_shape'] == 'X':\n",
    "                return 'lose'\n",
    "            elif x['your_shape'] == 'Y':\n",
    "                return 'draw'\n",
    "            elif x['your_shape'] == 'Z':\n",
    "                return 'win'\n",
    "        else:\n",
    "            if x['your_shape'] == 'X':\n",
    "                return 'win'\n",
    "            elif x['your_shape'] == 'Y':\n",
    "                return 'lose'\n",
    "            elif x['your_shape'] == 'Z':\n",
    "                return 'draw'\n",
    "\n",
    "    strat_df['who_wins'] = strat_df.apply(who_wins, axis=1)\n",
    "    strat_df['your_shape_score'] = strat_df['your_shape'].map(shape_map)\n",
    "    strat_df['who_wins_score'] = strat_df['who_wins'].map(outcome_map)\n",
    "\n",
    "    return strat_df[['your_shape_score', 'who_wins_score']].sum(axis=1).sum()\n",
    "\n",
    "print(get_total_score(strategy_guide))\n",
    "print(get_total_score(strategy_guide_test))"
   ]
  },
  {
   "cell_type": "markdown",
   "id": "9df7e411",
   "metadata": {},
   "source": [
    "### Part 2"
   ]
  },
  {
   "cell_type": "code",
   "execution_count": 7,
   "id": "99cb3102",
   "metadata": {},
   "outputs": [
    {
     "name": "stdout",
     "output_type": "stream",
     "text": [
      "14610\n",
      "12\n"
     ]
    }
   ],
   "source": [
    "def get_correct_total_score(strat_guide):\n",
    "    \n",
    "    row_split = [x.split(' ') for x in strat_guide]\n",
    "    strat_df = pd.DataFrame(row_split, columns=['opponent_shape', 'round_outcome'])\n",
    "    outcome_map = {'X': 0, 'Y': 3, 'Z': 6}\n",
    "    \n",
    "    def choose_shape(x):\n",
    "        if x['opponent_shape'] == 'A':\n",
    "            if x['round_outcome'] == 'X':\n",
    "                return 3\n",
    "            elif x['round_outcome'] == 'Y':\n",
    "                return 1\n",
    "            elif x['round_outcome'] == 'Z':\n",
    "                return 2\n",
    "        elif x['opponent_shape'] == 'B':\n",
    "            if x['round_outcome'] == 'X':\n",
    "                return 1\n",
    "            elif x['round_outcome'] == 'Y':\n",
    "                return 2\n",
    "            elif x['round_outcome'] == 'Z':\n",
    "                return 3\n",
    "        else:\n",
    "            if x['round_outcome'] == 'X':\n",
    "                return 2\n",
    "            elif x['round_outcome'] == 'Y':\n",
    "                return 3\n",
    "            elif x['round_outcome'] == 'Z':\n",
    "                return 1\n",
    "\n",
    "    strat_df['chosen_shape_score'] = strat_df.apply(choose_shape, axis=1)\n",
    "    strat_df['round_outcome_score'] = strat_df['round_outcome'].map(outcome_map)\n",
    "    return strat_df[['chosen_shape_score', 'round_outcome_score']].sum(axis=1).sum()\n",
    "\n",
    "print(get_correct_total_score(strategy_guide))\n",
    "print(get_correct_total_score(strategy_guide_test))"
   ]
  },
  {
   "cell_type": "markdown",
   "id": "d629a447",
   "metadata": {},
   "source": [
    "## Day 3"
   ]
  },
  {
   "cell_type": "code",
   "execution_count": 8,
   "id": "ac4c09ed",
   "metadata": {},
   "outputs": [],
   "source": [
    "with open('input_files/day3_input.txt', 'r') as f:\n",
    "    rucksacks = f.read().split('\\n')\n",
    "    \n",
    "with open('input_files/day3_test.txt', 'r') as f:\n",
    "    rucksacks_test = f.read().split('\\n')"
   ]
  },
  {
   "cell_type": "markdown",
   "id": "566511a6",
   "metadata": {},
   "source": [
    "### Part 1"
   ]
  },
  {
   "cell_type": "code",
   "execution_count": 9,
   "id": "4e89fc76",
   "metadata": {},
   "outputs": [
    {
     "name": "stdout",
     "output_type": "stream",
     "text": [
      "8039\n",
      "157\n"
     ]
    }
   ],
   "source": [
    "import string \n",
    "\n",
    "def get_item_priorities(rucksacks):\n",
    "    comps = pd.DataFrame(\n",
    "        [[[y for y in x[:int(len(x)/2)]], [y for y in x[int(len(x)/2):]]] for x in rucksacks],\n",
    "        columns=['sack1', 'sack2']\n",
    "    )\n",
    "\n",
    "    def find_common(x):\n",
    "        return set([y for y in x['sack1'] if y in x['sack2']]).pop()\n",
    "\n",
    "    comps['common_item'] = comps.apply(find_common,axis=1)\n",
    "    \n",
    "    item_map = {v: k+1 for k, v in enumerate(string.ascii_lowercase)}\n",
    "    item_map.update({v: k+27 for k, v in enumerate(string.ascii_uppercase)})\n",
    "    \n",
    "    comps['priority'] = comps['common_item'].map(item_map)\n",
    "    return comps['priority'].sum()\n",
    "\n",
    "print(get_item_priorities(rucksacks))\n",
    "print(get_item_priorities(rucksacks_test))"
   ]
  },
  {
   "cell_type": "markdown",
   "id": "2c843997",
   "metadata": {},
   "source": [
    "### Part 2"
   ]
  },
  {
   "cell_type": "code",
   "execution_count": 10,
   "id": "4a4123ea",
   "metadata": {},
   "outputs": [
    {
     "name": "stdout",
     "output_type": "stream",
     "text": [
      "2510\n",
      "70\n"
     ]
    }
   ],
   "source": [
    "def find_badge_priorities(rucksacks):\n",
    "    idx = 0\n",
    "    priority = 0\n",
    "    item_map = {v: k+1 for k, v in enumerate(string.ascii_lowercase)}\n",
    "    item_map.update({v: k+27 for k, v in enumerate(string.ascii_uppercase)})\n",
    "\n",
    "    for _ in range(len(rucksacks)):\n",
    "        s1, s2, s3 = rucksacks[idx:idx+3]\n",
    "        common_item = [x for x in s1 if x in [y for y in s2] and x in [z for z in s3]][0]\n",
    "        priority += int(item_map[common_item])\n",
    "        idx += 3    \n",
    "        if idx > len(rucksacks)-1:\n",
    "            break\n",
    "    return priority\n",
    "\n",
    "print(find_badge_priorities(rucksacks))\n",
    "print(find_badge_priorities(rucksacks_test))"
   ]
  },
  {
   "cell_type": "markdown",
   "id": "b0748057",
   "metadata": {},
   "source": [
    "## Day 4"
   ]
  },
  {
   "cell_type": "code",
   "execution_count": 11,
   "id": "f6e19d78",
   "metadata": {},
   "outputs": [],
   "source": [
    "with open('input_files/day4_input.txt', 'r') as f:\n",
    "    pairs = f.read().split('\\n')\n",
    "    \n",
    "with open('input_files/day4_test.txt', 'r') as f:\n",
    "    pairs_test = f.read().split('\\n')"
   ]
  },
  {
   "cell_type": "markdown",
   "id": "bf94ede4",
   "metadata": {},
   "source": [
    "### Part 1"
   ]
  },
  {
   "cell_type": "code",
   "execution_count": 12,
   "id": "1b2de17c",
   "metadata": {},
   "outputs": [
    {
     "name": "stdout",
     "output_type": "stream",
     "text": [
      "507\n",
      "2\n"
     ]
    }
   ],
   "source": [
    "def get_count_total_overlaps(pairs):\n",
    "    pair_list = [[y.split('-') for y in x.split(',')] for x in pairs]\n",
    "    overlaps = 0\n",
    "    for pair in pair_list:\n",
    "        i, j = pair\n",
    "        section1 = set(range(int(i[0]), int(i[1])+1))\n",
    "        section2 = set(range(int(j[0]), int(j[1])+1))\n",
    "        if len(section1) > len(section2) or len(section1) == len(section2):\n",
    "            if section2.issubset(section1):\n",
    "                overlaps += 1\n",
    "        else:\n",
    "            if section1.issubset(section2):\n",
    "                overlaps += 1\n",
    "    return overlaps\n",
    "\n",
    "print(get_count_total_overlaps(pairs))\n",
    "print(get_count_total_overlaps(pairs_test))"
   ]
  },
  {
   "cell_type": "markdown",
   "id": "edb4deac",
   "metadata": {},
   "source": [
    "### Part 2"
   ]
  },
  {
   "cell_type": "code",
   "execution_count": 13,
   "id": "29cf0164",
   "metadata": {},
   "outputs": [
    {
     "name": "stdout",
     "output_type": "stream",
     "text": [
      "897\n",
      "4\n"
     ]
    }
   ],
   "source": [
    "def get_count_any_overlaps(pairs):\n",
    "    pair_list = [[y.split('-') for y in x.split(',')] for x in pairs]\n",
    "    overlaps = 0\n",
    "    for pair in pair_list:\n",
    "        i, j = pair\n",
    "        section1 = list(range(int(i[0]), int(i[1])+1))\n",
    "        section2 = list(range(int(j[0]), int(j[1])+1))\n",
    "        if sum([y==x for y in section2 for x in section1]) > 0:\n",
    "            overlaps += 1\n",
    "    return overlaps\n",
    "\n",
    "print(get_count_any_overlaps(pairs))\n",
    "print(get_count_any_overlaps(pairs_test))"
   ]
  },
  {
   "cell_type": "markdown",
   "id": "7b8b5740",
   "metadata": {},
   "source": [
    "## Day 5"
   ]
  },
  {
   "cell_type": "code",
   "execution_count": 14,
   "id": "1488b429",
   "metadata": {},
   "outputs": [],
   "source": [
    "with open('input_files/day5_input.txt', 'r') as f:\n",
    "    crates = f.read().split('\\n\\n')\n",
    "    \n",
    "with open('input_files/day5_test.txt', 'r') as f:\n",
    "    crates_test = f.read().split('\\n\\n')"
   ]
  },
  {
   "cell_type": "markdown",
   "id": "b3d298ee",
   "metadata": {},
   "source": [
    "### Part 1"
   ]
  },
  {
   "cell_type": "code",
   "execution_count": 15,
   "id": "4c870e41",
   "metadata": {},
   "outputs": [
    {
     "name": "stdout",
     "output_type": "stream",
     "text": [
      "TLNGFGMFN\n",
      "CMZ\n"
     ]
    }
   ],
   "source": [
    "def get_top_crates(crates):\n",
    "    crate_list = crates[0].split('\\n')\n",
    "    instructions = crates[1].split('\\n')\n",
    "\n",
    "    # Put every element row-wise into a list, then cast to dataframe\n",
    "    crate_df = pd.DataFrame([re.findall('....?', x) for x in crate_list[:-1]][::-1]).fillna(' ')\n",
    "\n",
    "    # Transpose the df so the rows are now each crate stack, then get just the crate letters\n",
    "    crate_dict = {}\n",
    "    for idx, row in crate_df.transpose().iterrows():\n",
    "        crate_dict[idx+1] = [re.findall('[A-Z]', x)[0] for x in row.values if re.findall('[A-Z]', x)]\n",
    "\n",
    "    # Get the numbers from the instruction list and cast them to int\n",
    "    instruction_list = [[int(y) for y in re.findall('\\d+', x)] for x in instructions]\n",
    "    \n",
    "    # Move the crates\n",
    "    for instruction in instruction_list:\n",
    "        move_count, from_crate, to_crate = instruction\n",
    "        for i in range(move_count):\n",
    "            move_from = crate_dict[from_crate][-1]\n",
    "            crate_dict[to_crate].extend(move_from)    \n",
    "            crate_dict[from_crate] = crate_dict[from_crate][:-1]\n",
    "\n",
    "    return ''.join([crate_dict[i+1][-1] for i in range(len(crate_dict))])\n",
    "\n",
    "print(get_top_crates(crates))\n",
    "print(get_top_crates(crates_test))"
   ]
  },
  {
   "cell_type": "markdown",
   "id": "9e325234",
   "metadata": {},
   "source": [
    "### Part 2"
   ]
  },
  {
   "cell_type": "code",
   "execution_count": 16,
   "id": "ed11d79d",
   "metadata": {},
   "outputs": [
    {
     "name": "stdout",
     "output_type": "stream",
     "text": [
      "FGLQJCMBD\n",
      "MCD\n"
     ]
    }
   ],
   "source": [
    "def get_top_crates_again(crates):\n",
    "    crate_list = crates[0].split('\\n')\n",
    "    instructions = crates[1].split('\\n')\n",
    "\n",
    "    # Put every element row-wise into a list, then cast to dataframe\n",
    "    crate_df = pd.DataFrame([re.findall('....?', x) for x in crate_list[:-1]][::-1]).fillna(' ')\n",
    "\n",
    "    # Transpose the df so the rows are now each crate stack, then get just the crate letters\n",
    "    crate_dict = {}\n",
    "    for idx, row in crate_df.transpose().iterrows():\n",
    "        crate_dict[idx+1] = [re.findall('[A-Z]', x)[0] for x in row.values if re.findall('[A-Z]', x)]\n",
    "\n",
    "    # Get the numbers from the instruction list and cast them to int\n",
    "    instruction_list = [[int(y) for y in re.findall('\\d+', x)] for x in instructions]\n",
    "    \n",
    "    # Move the crates\n",
    "    for instruction in instruction_list:\n",
    "        move_count, from_crate, to_crate = instruction\n",
    "        move_from = crate_dict[from_crate][-move_count:]\n",
    "        crate_dict[to_crate].extend(move_from)    \n",
    "        crate_dict[from_crate] = crate_dict[from_crate][:-move_count]\n",
    "\n",
    "    return ''.join([crate_dict[i+1][-1] for i in range(len(crate_dict))])\n",
    "\n",
    "print(get_top_crates_again(crates))\n",
    "print(get_top_crates_again(crates_test))"
   ]
  },
  {
   "cell_type": "markdown",
   "id": "41295176",
   "metadata": {},
   "source": [
    "## Day 6"
   ]
  },
  {
   "cell_type": "code",
   "execution_count": 17,
   "id": "86afa244",
   "metadata": {},
   "outputs": [],
   "source": [
    "with open('input_files/day6_input.txt', 'r') as f:\n",
    "    stream = f.read()\n",
    "    \n",
    "with open('input_files/day6_test.txt', 'r') as f:\n",
    "    stream_test = f.read().split(', ')"
   ]
  },
  {
   "cell_type": "markdown",
   "id": "b9f09900",
   "metadata": {},
   "source": [
    "### Part 1"
   ]
  },
  {
   "cell_type": "code",
   "execution_count": 18,
   "id": "93a8f3d6",
   "metadata": {},
   "outputs": [
    {
     "name": "stdout",
     "output_type": "stream",
     "text": [
      "1140\n",
      "[7, 5, 6, 10, 11]\n"
     ]
    }
   ],
   "source": [
    "def get_marker(stream):\n",
    "    for i in range(1,len(stream)+1):\n",
    "        if i < 4:\n",
    "            pass\n",
    "        else:\n",
    "            possible_marker = [x for x in stream[i-4:i]]\n",
    "            if len(set(possible_marker)) == 4:\n",
    "                return i\n",
    "                break\n",
    "                \n",
    "print(get_marker(stream))\n",
    "print([get_marker(stream) for stream in stream_test])"
   ]
  },
  {
   "cell_type": "markdown",
   "id": "37c8bde8",
   "metadata": {},
   "source": [
    "### Part 2"
   ]
  },
  {
   "cell_type": "code",
   "execution_count": 19,
   "id": "1a2c8cbb",
   "metadata": {},
   "outputs": [
    {
     "name": "stdout",
     "output_type": "stream",
     "text": [
      "3495\n",
      "[19, 23, 23, 29, 26]\n"
     ]
    }
   ],
   "source": [
    "def get_message(stream):\n",
    "    for i in range(1,len(stream)+1):\n",
    "        if i < 14:\n",
    "            pass\n",
    "        else:\n",
    "            possible_marker = [x for x in stream[i-14:i]]\n",
    "            if len(set(possible_marker)) == 14:\n",
    "                return i\n",
    "                break\n",
    "                \n",
    "print(get_message(stream))\n",
    "print([get_message(stream) for stream in stream_test])"
   ]
  },
  {
   "cell_type": "markdown",
   "id": "a3775762",
   "metadata": {},
   "source": [
    "## Day 7 -- Not Finished"
   ]
  },
  {
   "cell_type": "code",
   "execution_count": 93,
   "id": "f14dbe51",
   "metadata": {},
   "outputs": [],
   "source": [
    "with open('input_files/day7_input.txt', 'r') as f:\n",
    "    output = [x for x in f.read().split('$ ') if x != '']\n",
    "\n",
    "with open('input_files/day7_test.txt', 'r') as f:\n",
    "    output_test = [x for x in f.read().split('$ ') if x != '']"
   ]
  },
  {
   "cell_type": "code",
   "execution_count": 94,
   "id": "ff3d4fc9",
   "metadata": {},
   "outputs": [],
   "source": [
    "clean_output = [[y.split(' ') for y in x.split('\\n') if y != ''] for x in output_test]"
   ]
  },
  {
   "cell_type": "code",
   "execution_count": 95,
   "id": "4312d290",
   "metadata": {},
   "outputs": [],
   "source": [
    "output_df = pd.DataFrame({\n",
    "    'cd': [x[0][1] if x[0][0] == 'cd' else x[0][0] for x in clean_output], \n",
    "    'dirs': [[y[1] for y in x if y[0] == 'dir' ] for x in clean_output], \n",
    "    'files': [[y[0] for y in x if y[0].isnumeric()] for x in clean_output]\n",
    "})"
   ]
  },
  {
   "cell_type": "code",
   "execution_count": 96,
   "id": "6b082c47",
   "metadata": {},
   "outputs": [],
   "source": [
    "output_df = output_df.applymap(lambda x: x if x != [] else None)"
   ]
  },
  {
   "cell_type": "code",
   "execution_count": 113,
   "id": "ca53b3d2",
   "metadata": {},
   "outputs": [],
   "source": [
    "file_structure = dict()\n",
    "\n",
    "for idx, row in output_df.iterrows():\n",
    "    if row['cd'] == '/':\n",
    "        file_structure = {k: {} for k in output_df.loc[idx+1, 'dirs']}\n",
    "        file_structure.update({'files': [x for x in output_df.loc[idx+1, 'files']]})\n",
    "    elif row['cd'] == '..':\n",
    "        view = output_df.loc[idx-1, 'cd']\n",
    "    elif row['cd'] == 'ls':\n",
    "        for dr in row['dirs']:\n",
    "            if not file_structure[view].get('files')\n",
    "                file_structure[view].update({'files': [x for x in output_df.loc[idx+1, 'files']]})\n",
    "            else:\n",
    "                file_structure[view].append('files')\n",
    "        file_structure.update()  = {k: {} for k in output_df.loc[idx+1, 'dirs']}\n",
    "        file_structure.update({'files': [x for x in output_df.loc[idx+1, 'files']]})\n",
    "    else:\n",
    "        view = row['cd']"
   ]
  },
  {
   "cell_type": "code",
   "execution_count": 116,
   "id": "200406b7",
   "metadata": {},
   "outputs": [
    {
     "data": {
      "text/plain": [
       "{'a': {}, 'd': {}, 'files': ['14848514', '8504156']}"
      ]
     },
     "execution_count": 116,
     "metadata": {},
     "output_type": "execute_result"
    }
   ],
   "source": [
    "file_structure"
   ]
  },
  {
   "cell_type": "code",
   "execution_count": 115,
   "id": "81834281",
   "metadata": {},
   "outputs": [
    {
     "data": {
      "text/html": [
       "<div>\n",
       "<style scoped>\n",
       "    .dataframe tbody tr th:only-of-type {\n",
       "        vertical-align: middle;\n",
       "    }\n",
       "\n",
       "    .dataframe tbody tr th {\n",
       "        vertical-align: top;\n",
       "    }\n",
       "\n",
       "    .dataframe thead th {\n",
       "        text-align: right;\n",
       "    }\n",
       "</style>\n",
       "<table border=\"1\" class=\"dataframe\">\n",
       "  <thead>\n",
       "    <tr style=\"text-align: right;\">\n",
       "      <th></th>\n",
       "      <th>cd</th>\n",
       "      <th>dirs</th>\n",
       "      <th>files</th>\n",
       "    </tr>\n",
       "  </thead>\n",
       "  <tbody>\n",
       "    <tr>\n",
       "      <th>0</th>\n",
       "      <td>/</td>\n",
       "      <td>None</td>\n",
       "      <td>None</td>\n",
       "    </tr>\n",
       "    <tr>\n",
       "      <th>1</th>\n",
       "      <td>ls</td>\n",
       "      <td>[a, d]</td>\n",
       "      <td>[14848514, 8504156]</td>\n",
       "    </tr>\n",
       "    <tr>\n",
       "      <th>2</th>\n",
       "      <td>a</td>\n",
       "      <td>None</td>\n",
       "      <td>None</td>\n",
       "    </tr>\n",
       "    <tr>\n",
       "      <th>3</th>\n",
       "      <td>ls</td>\n",
       "      <td>[e]</td>\n",
       "      <td>[29116, 2557, 62596]</td>\n",
       "    </tr>\n",
       "    <tr>\n",
       "      <th>4</th>\n",
       "      <td>e</td>\n",
       "      <td>None</td>\n",
       "      <td>None</td>\n",
       "    </tr>\n",
       "    <tr>\n",
       "      <th>5</th>\n",
       "      <td>ls</td>\n",
       "      <td>None</td>\n",
       "      <td>[584]</td>\n",
       "    </tr>\n",
       "    <tr>\n",
       "      <th>6</th>\n",
       "      <td>..</td>\n",
       "      <td>None</td>\n",
       "      <td>None</td>\n",
       "    </tr>\n",
       "    <tr>\n",
       "      <th>7</th>\n",
       "      <td>..</td>\n",
       "      <td>None</td>\n",
       "      <td>None</td>\n",
       "    </tr>\n",
       "    <tr>\n",
       "      <th>8</th>\n",
       "      <td>d</td>\n",
       "      <td>None</td>\n",
       "      <td>None</td>\n",
       "    </tr>\n",
       "    <tr>\n",
       "      <th>9</th>\n",
       "      <td>ls</td>\n",
       "      <td>None</td>\n",
       "      <td>[4060174, 8033020, 5626152, 7214296]</td>\n",
       "    </tr>\n",
       "  </tbody>\n",
       "</table>\n",
       "</div>"
      ],
      "text/plain": [
       "   cd    dirs                                 files\n",
       "0   /    None                                  None\n",
       "1  ls  [a, d]                   [14848514, 8504156]\n",
       "2   a    None                                  None\n",
       "3  ls     [e]                  [29116, 2557, 62596]\n",
       "4   e    None                                  None\n",
       "5  ls    None                                 [584]\n",
       "6  ..    None                                  None\n",
       "7  ..    None                                  None\n",
       "8   d    None                                  None\n",
       "9  ls    None  [4060174, 8033020, 5626152, 7214296]"
      ]
     },
     "execution_count": 115,
     "metadata": {},
     "output_type": "execute_result"
    }
   ],
   "source": [
    "output_df"
   ]
  },
  {
   "cell_type": "markdown",
   "id": "34bffaff",
   "metadata": {},
   "source": [
    "## Day 8"
   ]
  },
  {
   "cell_type": "code",
   "execution_count": 20,
   "id": "22c99a53",
   "metadata": {},
   "outputs": [],
   "source": [
    "with open('input_files/day8_input.txt', 'r') as f:\n",
    "    trees = [[int(y) for y in x] for x in f.read().split('\\n')]\n",
    "\n",
    "with open('input_files/day8_test.txt', 'r') as f:\n",
    "    trees_test = [[int(y) for y in x] for x in f.read().split('\\n')]"
   ]
  },
  {
   "cell_type": "markdown",
   "id": "d4db907b",
   "metadata": {},
   "source": [
    "### Part 1"
   ]
  },
  {
   "cell_type": "code",
   "execution_count": 21,
   "id": "c3807b44",
   "metadata": {},
   "outputs": [
    {
     "name": "stdout",
     "output_type": "stream",
     "text": [
      "1715\n",
      "21\n"
     ]
    }
   ],
   "source": [
    "def get_visible_trees(trees):\n",
    "    \n",
    "    # Create a df with unique IDs for each tree so we know which ones can be viewed\n",
    "    tree_df = pd.DataFrame(trees)\n",
    "    tree_ids = pd.DataFrame(np.random.choice(\n",
    "        tree_df.shape[0]*tree_df.shape[1],\n",
    "        size=(tree_df.shape[0],tree_df.shape[1]),\n",
    "        replace=False)\n",
    "    )\n",
    "\n",
    "    def get_visible_trees_per_view(df, tree_id_df):\n",
    "        visible_trees = []\n",
    "        for idx in df.index:\n",
    "            highest = df.loc[idx].iloc[0]\n",
    "            height = df.loc[idx].iloc[0]\n",
    "            first = True\n",
    "            for col in df.columns:\n",
    "                if first == True:\n",
    "                    visible_trees.append(tree_id_df.loc[idx,col])\n",
    "                    first = False\n",
    "                else:\n",
    "                    tree = df.loc[idx, col] \n",
    "                    if tree > height:\n",
    "                        if tree > highest:\n",
    "                            visible_trees.append(tree_id_df.loc[idx,col])\n",
    "                            highest = tree\n",
    "                    height = tree\n",
    "                \n",
    "        return visible_trees\n",
    "    \n",
    "    total_visible_trees = []\n",
    "    \n",
    "    for each in [\n",
    "        # Flip the forest view in all directions\n",
    "        (tree_df, tree_ids), \n",
    "        (tree_df.T, tree_ids.T), \n",
    "        (tree_df.loc[::-1, ::-1].T, tree_ids.loc[::-1, ::-1].T), \n",
    "        (tree_df.loc[::-1, ::-1], tree_ids.loc[::-1, ::-1])\n",
    "    ]:\n",
    "        total_visible_trees.extend(get_visible_trees_per_view(each[0], each[1]))\n",
    "    return len(set(total_visible_trees))\n",
    "\n",
    "print(get_visible_trees(trees))\n",
    "print(get_visible_trees(trees_test))"
   ]
  },
  {
   "cell_type": "markdown",
   "id": "bfb134d1",
   "metadata": {},
   "source": [
    "### Part 2"
   ]
  },
  {
   "cell_type": "code",
   "execution_count": 22,
   "id": "b7650d2f",
   "metadata": {},
   "outputs": [
    {
     "name": "stdout",
     "output_type": "stream",
     "text": [
      "374400\n",
      "8\n"
     ]
    }
   ],
   "source": [
    "def get_scenic_scores(trees):\n",
    "    tree_df = pd.DataFrame(trees)\n",
    "    tree_totals = []\n",
    "    for idx in tree_df.index:\n",
    "        for col in tree_df.columns:\n",
    "            view1 = tree_df.loc[:idx, col].tolist()[::-1]\n",
    "            view2 = tree_df.loc[idx, col:].tolist()\n",
    "            view3 = tree_df.loc[idx:, col].tolist()\n",
    "            view4 = tree_df.loc[idx, :col].to_list()[::-1]\n",
    "            def get_trees_seen(ls):\n",
    "                if len(ls) == 1:\n",
    "                    return 0\n",
    "                else:\n",
    "                    trees_seen = 0                    \n",
    "                    for x in ls[1:]:\n",
    "                        tree = x\n",
    "                        height = ls[0]\n",
    "                        if tree >= height:\n",
    "                            trees_seen += 1\n",
    "                            break\n",
    "                        else:\n",
    "                            trees_seen += 1\n",
    "                return trees_seen\n",
    "            scenic_score = []\n",
    "            for each in [view1, view2, view3, view4]:\n",
    "                scenic_score.append(get_trees_seen(each))\n",
    "            tree_totals.append(np.prod(scenic_score))\n",
    "    \n",
    "    return max(tree_totals)\n",
    "\n",
    "print(get_scenic_scores(trees))\n",
    "print(get_scenic_scores(trees_test))"
   ]
  },
  {
   "cell_type": "markdown",
   "id": "b62f4d66",
   "metadata": {},
   "source": [
    "## Day 9"
   ]
  },
  {
   "cell_type": "code",
   "execution_count": 89,
   "id": "b45af0c6",
   "metadata": {},
   "outputs": [],
   "source": [
    "with open('input_files/day9_input.txt', 'r') as f:\n",
    "    mvmts = f.read().split('\\n')\n",
    "\n",
    "with open('input_files/day9_test.txt', 'r') as f:\n",
    "    mvmts_test = f.read().split('\\n')"
   ]
  },
  {
   "cell_type": "markdown",
   "id": "fba2b54e",
   "metadata": {},
   "source": [
    "### Part 1"
   ]
  },
  {
   "cell_type": "code",
   "execution_count": 90,
   "id": "e8c2ba02",
   "metadata": {},
   "outputs": [
    {
     "name": "stdout",
     "output_type": "stream",
     "text": [
      "5981\n",
      "13\n"
     ]
    }
   ],
   "source": [
    "def get_spaces_visited(mvmts):\n",
    "    \n",
    "    mvmts = [x.split(' ') for x in mvmts]\n",
    "    \n",
    "    head = (0,0)\n",
    "    tail = (0,0)\n",
    "    tail_visited = []\n",
    "\n",
    "    for mvmt in mvmts:\n",
    "        direction = mvmt[0]\n",
    "        spaces = int(mvmt[-1])\n",
    "        for _ in range(spaces):            \n",
    "            if direction == 'L':\n",
    "                head = (head[0]-1, head[1])\n",
    "            elif direction == 'R':\n",
    "                head = (head[0]+1, head[1])\n",
    "            elif direction == 'U':\n",
    "                head = (head[0], head[1]+1)\n",
    "            elif direction == 'D':\n",
    "                head = (head[0], head[1]-1)\n",
    "            \n",
    "            x_diff = head[0] - tail[0]\n",
    "            y_diff = head[1] - tail[1]\n",
    "            \n",
    "            not_touching = abs(x_diff) > 1 or abs(y_diff) > 1\n",
    "            \n",
    "            if not_touching:\n",
    "                tail = (tail[0]+(np.sign(x_diff)), tail[1]+np.sign(y_diff))\n",
    "                \n",
    "            tail_visited.append(tail)\n",
    "\n",
    "    return len(set(tail_visited))\n",
    "\n",
    "print(get_spaces_visited(mvmts))\n",
    "print(get_spaces_visited(mvmts_test))"
   ]
  },
  {
   "cell_type": "markdown",
   "id": "06a08c15",
   "metadata": {},
   "source": [
    "### Part 2"
   ]
  },
  {
   "cell_type": "code",
   "execution_count": 92,
   "id": "c8bb1200",
   "metadata": {},
   "outputs": [
    {
     "name": "stdout",
     "output_type": "stream",
     "text": [
      "2352\n",
      "1\n"
     ]
    }
   ],
   "source": [
    "def get_spaces_visited_more_rope(mvmts):\n",
    "    \n",
    "    mvmts = [x.split(' ') for x in mvmts]\n",
    "    \n",
    "    head = (0,0)    \n",
    "    head_visited = []\n",
    "    \n",
    "    def move_head(head, direction):\n",
    "        if direction == 'L':\n",
    "            return (head[0]-1, head[1])\n",
    "        elif direction == 'R':\n",
    "            return (head[0]+1, head[1])\n",
    "        elif direction == 'U':\n",
    "            return (head[0], head[1]+1)\n",
    "        elif direction == 'D':\n",
    "            return (head[0], head[1]-1)\n",
    "\n",
    "    def move_tail(head, tail):\n",
    "        x_diff = head[0] - tail[0]\n",
    "        y_diff = head[1] - tail[1]\n",
    "        not_touching = abs(x_diff) > 1 or abs(y_diff) > 1\n",
    "        if not_touching:\n",
    "            tail = (tail[0]+(np.sign(x_diff)), tail[1]+np.sign(y_diff))            \n",
    "        return tail\n",
    "    \n",
    "    for mvmt in mvmts:\n",
    "        direction = mvmt[0]\n",
    "        spaces = int(mvmt[-1])\n",
    "        for i in range(spaces):\n",
    "            head = move_head(head, direction)\n",
    "            head_visited.append(head)\n",
    "\n",
    "    for _ in range(9):\n",
    "        tail = (0,0)    \n",
    "        tail_visited = []\n",
    "        for head in head_visited:\n",
    "            tail = move_tail(head, tail)\n",
    "            tail_visited.append(tail)\n",
    "        head_visited = tail_visited\n",
    "\n",
    "    return tail_visited                \n",
    "\n",
    "print(len(set(get_spaces_visited_more_rope(mvmts))))\n",
    "print(len(set(get_spaces_visited_more_rope(mvmts_test))))"
   ]
  },
  {
   "cell_type": "markdown",
   "id": "e77bba9f",
   "metadata": {},
   "source": [
    "## Day 10"
   ]
  },
  {
   "cell_type": "code",
   "execution_count": 98,
   "id": "f9e9710a",
   "metadata": {},
   "outputs": [],
   "source": [
    "with open('input_files/day10_input.txt', 'r') as f:\n",
    "    signals = f.read().split('\\n')\n",
    "\n",
    "with open('input_files/day10_test.txt', 'r') as f:\n",
    "    signals_test = f.read().split('\\n')"
   ]
  },
  {
   "cell_type": "markdown",
   "id": "58a06dda",
   "metadata": {},
   "source": [
    "### Part 1"
   ]
  },
  {
   "cell_type": "code",
   "execution_count": 122,
   "id": "a001a792",
   "metadata": {},
   "outputs": [
    {
     "name": "stdout",
     "output_type": "stream",
     "text": [
      "14520\n",
      "13140\n"
     ]
    }
   ],
   "source": [
    "def get_signal_strength(signals):\n",
    "    X = 1\n",
    "    cycle = 1\n",
    "    signal_cycles = [20, 60, 100, 140, 180, 220]\n",
    "    signal_strengths = []\n",
    "    for signal in signals:\n",
    "        if cycle in signal_cycles:\n",
    "            signal_strengths.append(X * cycle)\n",
    "        if signal == 'noop':\n",
    "            cycle += 1\n",
    "        elif signal.startswith('addx'):\n",
    "            x = int(signal.split(' ')[1])\n",
    "            cycle += 1\n",
    "            if cycle in signal_cycles:\n",
    "                signal_strengths.append(X * cycle)\n",
    "            X += x\n",
    "            cycle += 1\n",
    "    return sum(signal_strengths)\n",
    "\n",
    "print(get_signal_strength(signals))\n",
    "print(get_signal_strength(signals_test))"
   ]
  },
  {
   "cell_type": "markdown",
   "id": "937dbb16",
   "metadata": {},
   "source": [
    "### Part 2"
   ]
  },
  {
   "cell_type": "code",
   "execution_count": 245,
   "id": "8407cda3",
   "metadata": {},
   "outputs": [
    {
     "name": "stdout",
     "output_type": "stream",
     "text": [
      "##...####.###...##..####.####...##.###..\n",
      "#..#....#.#..#.#..#....#.#.......#.#..#.\n",
      "#..#...#..###..#......#..###.....#.###..\n",
      "###...#...#..#.#.##..#...#.......#.#..#.\n",
      "#....#....#..#.#..#.#....#....#..#.#..#.\n",
      "#....####.###...###.####.####..##..###..\n",
      "\n",
      "\n",
      "##..##..##..##..##..##..##..##..##..##..\n",
      "###...###...###...###...###...###...###.\n",
      "####....####....####....####....####....\n",
      "#####.....#####.....#####.....#####.....\n",
      "######......######......######......####\n",
      "#######.......#######.......#######.....\n"
     ]
    }
   ],
   "source": [
    "def get_capital_letters(signals):\n",
    "    matrix = [['.']*40 for _ in range(6)]\n",
    "    matrix_j = 0\n",
    "    X = 1\n",
    "    cycle = 1\n",
    "    pixel = 0\n",
    "    signal_cycles = [41, 81, 121, 161, 201]\n",
    "    sprite = [-1, 0, 1]\n",
    "    for signal in signals:  \n",
    "        if pixel in sprite:\n",
    "            matrix[matrix_j][pixel] = matrix[matrix_j][pixel].replace('.', '#')\n",
    "        if signal == 'noop':\n",
    "            cycle += 1\n",
    "            pixel += 1            \n",
    "            if cycle in signal_cycles:\n",
    "                matrix_j += 1\n",
    "                pixel = 0\n",
    "        elif signal.startswith('addx'):\n",
    "            x = int(signal.split(' ')[1])\n",
    "            cycle += 1\n",
    "            pixel += 1\n",
    "            if cycle in signal_cycles:\n",
    "                matrix_j += 1\n",
    "                pixel = 0          \n",
    "            if pixel in sprite:\n",
    "                matrix[matrix_j][pixel] = matrix[matrix_j][pixel].replace('.', '#')\n",
    "            X += x\n",
    "            cycle += 1\n",
    "            pixel += 1     \n",
    "            sprite = [X-1, X, X+1]            \n",
    "            if cycle in signal_cycles:\n",
    "                matrix_j += 1\n",
    "                pixel = 0 \n",
    "    return [''.join(x) for x in matrix]\n",
    "\n",
    "for x in get_capital_letters(signals):\n",
    "    print(x)\n",
    "print('\\n')\n",
    "for x in get_capital_letters(signals_test):\n",
    "    print(x)"
   ]
  }
 ],
 "metadata": {
  "kernelspec": {
   "display_name": "Python 3 (ipykernel)",
   "language": "python",
   "name": "python3"
  },
  "language_info": {
   "codemirror_mode": {
    "name": "ipython",
    "version": 3
   },
   "file_extension": ".py",
   "mimetype": "text/x-python",
   "name": "python",
   "nbconvert_exporter": "python",
   "pygments_lexer": "ipython3",
   "version": "3.9.7"
  }
 },
 "nbformat": 4,
 "nbformat_minor": 5
}
