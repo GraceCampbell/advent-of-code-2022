{
 "cells": [
  {
   "cell_type": "markdown",
   "id": "6454bf53",
   "metadata": {},
   "source": [
    "# Advent of Code 2022\n",
    "\n",
    "## Day 1"
   ]
  },
  {
   "cell_type": "code",
   "execution_count": 197,
   "id": "22c14b60",
   "metadata": {},
   "outputs": [],
   "source": [
    "with open('input_files/day1_input.txt', 'r') as f:\n",
    "    elf_list = f.read().split('\\n\\n')\n",
    "    \n",
    "with open('input_files/day1_test.txt', 'r') as f:\n",
    "    elf_list_test = f.read().split('\\n\\n')"
   ]
  },
  {
   "cell_type": "markdown",
   "id": "9e351ca6",
   "metadata": {},
   "source": [
    "### Part 1"
   ]
  },
  {
   "cell_type": "code",
   "execution_count": 199,
   "id": "f3ec596a",
   "metadata": {},
   "outputs": [
    {
     "name": "stdout",
     "output_type": "stream",
     "text": [
      "70720\n",
      "24000\n"
     ]
    }
   ],
   "source": [
    "def calculate_calories(elf_list):\n",
    "    elves = []\n",
    "    for x in elf_list:\n",
    "        elf_totals = x.split('\\n')\n",
    "        elves.append(sum([int(x) for x in elf_totals]))\n",
    "\n",
    "    return max(elves)\n",
    "\n",
    "print(calculate_calories(elf_list))\n",
    "print(calculate_calories(elf_list_test))"
   ]
  },
  {
   "cell_type": "markdown",
   "id": "9950ff04",
   "metadata": {},
   "source": [
    "### Part 2"
   ]
  },
  {
   "cell_type": "code",
   "execution_count": 201,
   "id": "e2977939",
   "metadata": {},
   "outputs": [
    {
     "name": "stdout",
     "output_type": "stream",
     "text": [
      "207148\n",
      "45000\n"
     ]
    }
   ],
   "source": [
    "def calculate_top3_calories(elf_list):\n",
    "    elves = []\n",
    "    for x in elf_list:\n",
    "        elf_totals = x.split('\\n')\n",
    "        elves.append(sum([int(x) for x in elf_totals]))\n",
    "    \n",
    "    elves = sorted(elves)\n",
    "    return sum(elves[-3:])\n",
    "\n",
    "print(calculate_top3_calories(elf_list))\n",
    "print(calculate_top3_calories(elf_list_test))"
   ]
  },
  {
   "cell_type": "markdown",
   "id": "a4a449bc",
   "metadata": {},
   "source": [
    "## Day 2"
   ]
  },
  {
   "cell_type": "code",
   "execution_count": 3,
   "id": "92c5e106",
   "metadata": {},
   "outputs": [],
   "source": [
    "with open('input_files/day2_input.txt', 'r') as f:\n",
    "    strategy_guide = f.read().split('\\n')\n",
    "    \n",
    "with open('input_files/day2_test.txt', 'r') as f:\n",
    "    strategy_guide_test = f.read().split('\\n')"
   ]
  },
  {
   "cell_type": "markdown",
   "id": "7d468214",
   "metadata": {},
   "source": [
    "### Part 1"
   ]
  },
  {
   "cell_type": "code",
   "execution_count": 4,
   "id": "2e27af4b",
   "metadata": {},
   "outputs": [
    {
     "name": "stdout",
     "output_type": "stream",
     "text": [
      "9241\n",
      "15\n"
     ]
    }
   ],
   "source": [
    "import pandas as pd\n",
    "\n",
    "def get_total_score(strat_guide):\n",
    "    \n",
    "    row_split = [x.split(' ') for x in strat_guide]\n",
    "    strat_df = pd.DataFrame(row_split, columns=['opponent_shape', 'your_shape'])\n",
    "    shape_map = {'X': 1, 'Y': 2, 'Z': 3}\n",
    "    outcome_map = {'lose': 0, 'draw': 3, 'win': 6}\n",
    "    \n",
    "    def who_wins(x):\n",
    "        if x['opponent_shape'] == 'A':\n",
    "            if x['your_shape'] == 'X':\n",
    "                return 'draw'\n",
    "            elif x['your_shape'] == 'Y':\n",
    "                return 'win'\n",
    "            elif x['your_shape'] == 'Z':\n",
    "                return 'lose'\n",
    "        elif x['opponent_shape'] == 'B':\n",
    "            if x['your_shape'] == 'X':\n",
    "                return 'lose'\n",
    "            elif x['your_shape'] == 'Y':\n",
    "                return 'draw'\n",
    "            elif x['your_shape'] == 'Z':\n",
    "                return 'win'\n",
    "        else:\n",
    "            if x['your_shape'] == 'X':\n",
    "                return 'win'\n",
    "            elif x['your_shape'] == 'Y':\n",
    "                return 'lose'\n",
    "            elif x['your_shape'] == 'Z':\n",
    "                return 'draw'\n",
    "\n",
    "    strat_df['who_wins'] = strat_df.apply(who_wins, axis=1)\n",
    "    strat_df['your_shape_score'] = strat_df['your_shape'].map(shape_map)\n",
    "    strat_df['who_wins_score'] = strat_df['who_wins'].map(outcome_map)\n",
    "\n",
    "    return strat_df[['your_shape_score', 'who_wins_score']].sum(axis=1).sum()\n",
    "\n",
    "print(get_total_score(strategy_guide))\n",
    "print(get_total_score(strategy_guide_test))"
   ]
  },
  {
   "cell_type": "markdown",
   "id": "74de4aae",
   "metadata": {},
   "source": [
    "### Part 2"
   ]
  },
  {
   "cell_type": "code",
   "execution_count": 5,
   "id": "423e8011",
   "metadata": {},
   "outputs": [
    {
     "name": "stdout",
     "output_type": "stream",
     "text": [
      "14610\n",
      "12\n"
     ]
    }
   ],
   "source": [
    "def get_correct_total_score(strat_guide):\n",
    "    \n",
    "    row_split = [x.split(' ') for x in strat_guide]\n",
    "    strat_df = pd.DataFrame(row_split, columns=['opponent_shape', 'round_outcome'])\n",
    "    outcome_map = {'X': 0, 'Y': 3, 'Z': 6}\n",
    "    \n",
    "    def choose_shape(x):\n",
    "        if x['opponent_shape'] == 'A':\n",
    "            if x['round_outcome'] == 'X':\n",
    "                return 3\n",
    "            elif x['round_outcome'] == 'Y':\n",
    "                return 1\n",
    "            elif x['round_outcome'] == 'Z':\n",
    "                return 2\n",
    "        elif x['opponent_shape'] == 'B':\n",
    "            if x['round_outcome'] == 'X':\n",
    "                return 1\n",
    "            elif x['round_outcome'] == 'Y':\n",
    "                return 2\n",
    "            elif x['round_outcome'] == 'Z':\n",
    "                return 3\n",
    "        else:\n",
    "            if x['round_outcome'] == 'X':\n",
    "                return 2\n",
    "            elif x['round_outcome'] == 'Y':\n",
    "                return 3\n",
    "            elif x['round_outcome'] == 'Z':\n",
    "                return 1\n",
    "\n",
    "    strat_df['chosen_shape_score'] = strat_df.apply(choose_shape, axis=1)\n",
    "    strat_df['round_outcome_score'] = strat_df['round_outcome'].map(outcome_map)\n",
    "    return strat_df[['chosen_shape_score', 'round_outcome_score']].sum(axis=1).sum()\n",
    "\n",
    "print(get_correct_total_score(strategy_guide))\n",
    "print(get_correct_total_score(strategy_guide_test))"
   ]
  },
  {
   "cell_type": "markdown",
   "id": "1e8dec52",
   "metadata": {},
   "source": [
    "## Day 3"
   ]
  },
  {
   "cell_type": "code",
   "execution_count": 6,
   "id": "0f441c72",
   "metadata": {},
   "outputs": [],
   "source": [
    "with open('input_files/day3_input.txt', 'r') as f:\n",
    "    rucksacks = f.read().split('\\n')\n",
    "    \n",
    "with open('input_files/day3_test.txt', 'r') as f:\n",
    "    rucksacks_test = f.read().split('\\n')"
   ]
  },
  {
   "cell_type": "markdown",
   "id": "4fa34182",
   "metadata": {},
   "source": [
    "### Part 1"
   ]
  },
  {
   "cell_type": "code",
   "execution_count": 7,
   "id": "da5d6075",
   "metadata": {},
   "outputs": [
    {
     "name": "stdout",
     "output_type": "stream",
     "text": [
      "8039\n",
      "157\n"
     ]
    }
   ],
   "source": [
    "import string \n",
    "\n",
    "def get_item_priorities(rucksacks):\n",
    "    comps = pd.DataFrame(\n",
    "        [[[y for y in x[:int(len(x)/2)]], [y for y in x[int(len(x)/2):]]] for x in rucksacks],\n",
    "        columns=['sack1', 'sack2']\n",
    "    )\n",
    "\n",
    "    def find_common(x):\n",
    "        return set([y for y in x['sack1'] if y in x['sack2']]).pop()\n",
    "\n",
    "    comps['common_item'] = comps.apply(find_common,axis=1)\n",
    "    \n",
    "    item_map = {v: k+1 for k, v in enumerate(string.ascii_lowercase)}\n",
    "    item_map.update({v: k+27 for k, v in enumerate(string.ascii_uppercase)})\n",
    "    \n",
    "    comps['priority'] = comps['common_item'].map(item_map)\n",
    "    return comps['priority'].sum()\n",
    "\n",
    "print(get_item_priorities(rucksacks))\n",
    "print(get_item_priorities(rucksacks_test))"
   ]
  },
  {
   "cell_type": "markdown",
   "id": "e39a4ace",
   "metadata": {},
   "source": [
    "### Part 2"
   ]
  },
  {
   "cell_type": "code",
   "execution_count": 8,
   "id": "82cb1071",
   "metadata": {},
   "outputs": [
    {
     "name": "stdout",
     "output_type": "stream",
     "text": [
      "2510\n",
      "70\n"
     ]
    }
   ],
   "source": [
    "def find_badge_priorities(rucksacks):\n",
    "    idx = 0\n",
    "    priority = 0\n",
    "    item_map = {v: k+1 for k, v in enumerate(string.ascii_lowercase)}\n",
    "    item_map.update({v: k+27 for k, v in enumerate(string.ascii_uppercase)})\n",
    "\n",
    "    for _ in range(len(rucksacks)):\n",
    "        s1, s2, s3 = rucksacks[idx:idx+3]\n",
    "        common_item = [x for x in s1 if x in [y for y in s2] and x in [z for z in s3]][0]\n",
    "        priority += int(item_map[common_item])\n",
    "        idx += 3    \n",
    "        if idx > len(rucksacks)-1:\n",
    "            break\n",
    "    return priority\n",
    "\n",
    "print(find_badge_priorities(rucksacks))\n",
    "print(find_badge_priorities(rucksacks_test))"
   ]
  },
  {
   "cell_type": "markdown",
   "id": "2ff3e646",
   "metadata": {},
   "source": [
    "## Day 4"
   ]
  },
  {
   "cell_type": "code",
   "execution_count": 9,
   "id": "ff39f641",
   "metadata": {},
   "outputs": [],
   "source": [
    "with open('input_files/day4_input.txt', 'r') as f:\n",
    "    pairs = f.read().split('\\n')\n",
    "    \n",
    "with open('input_files/day4_test.txt', 'r') as f:\n",
    "    pairs_test = f.read().split('\\n')"
   ]
  },
  {
   "cell_type": "markdown",
   "id": "caf2401d",
   "metadata": {},
   "source": [
    "### Part 1"
   ]
  },
  {
   "cell_type": "code",
   "execution_count": 10,
   "id": "daed991a",
   "metadata": {},
   "outputs": [
    {
     "name": "stdout",
     "output_type": "stream",
     "text": [
      "507\n",
      "2\n"
     ]
    }
   ],
   "source": [
    "def get_count_total_overlaps(pairs):\n",
    "    pair_list = [[y.split('-') for y in x.split(',')] for x in pairs]\n",
    "    overlaps = 0\n",
    "    for pair in pair_list:\n",
    "        i, j = pair\n",
    "        section1 = set(range(int(i[0]), int(i[1])+1))\n",
    "        section2 = set(range(int(j[0]), int(j[1])+1))\n",
    "        if len(section1) > len(section2) or len(section1) == len(section2):\n",
    "            if section2.issubset(section1):\n",
    "                overlaps += 1\n",
    "        else:\n",
    "            if section1.issubset(section2):\n",
    "                overlaps += 1\n",
    "    return overlaps\n",
    "\n",
    "print(get_count_total_overlaps(pairs))\n",
    "print(get_count_total_overlaps(pairs_test))"
   ]
  },
  {
   "cell_type": "markdown",
   "id": "4bb69ccd",
   "metadata": {},
   "source": [
    "### Part 2"
   ]
  },
  {
   "cell_type": "code",
   "execution_count": 11,
   "id": "1e04674e",
   "metadata": {},
   "outputs": [
    {
     "name": "stdout",
     "output_type": "stream",
     "text": [
      "897\n",
      "4\n"
     ]
    }
   ],
   "source": [
    "def get_count_any_overlaps(pairs):\n",
    "    pair_list = [[y.split('-') for y in x.split(',')] for x in pairs]\n",
    "    overlaps = 0\n",
    "    for pair in pair_list:\n",
    "        i, j = pair\n",
    "        section1 = list(range(int(i[0]), int(i[1])+1))\n",
    "        section2 = list(range(int(j[0]), int(j[1])+1))\n",
    "        if sum([y==x for y in section2 for x in section1]) > 0:\n",
    "            overlaps += 1\n",
    "    return overlaps\n",
    "\n",
    "print(get_count_any_overlaps(pairs))\n",
    "print(get_count_any_overlaps(pairs_test))"
   ]
  },
  {
   "cell_type": "markdown",
   "id": "a0dc8e47",
   "metadata": {},
   "source": [
    "## Day 5"
   ]
  },
  {
   "cell_type": "code",
   "execution_count": 16,
   "id": "75ec0aba",
   "metadata": {},
   "outputs": [],
   "source": [
    "with open('input_files/day5_input.txt', 'r') as f:\n",
    "    crates = f.read().split('\\n\\n')\n",
    "    \n",
    "with open('input_files/day5_test.txt', 'r') as f:\n",
    "    crates_test = f.read().split('\\n\\n')"
   ]
  },
  {
   "cell_type": "markdown",
   "id": "10e68045",
   "metadata": {},
   "source": [
    "### Part 1"
   ]
  },
  {
   "cell_type": "code",
   "execution_count": 193,
   "id": "65869729",
   "metadata": {},
   "outputs": [
    {
     "name": "stdout",
     "output_type": "stream",
     "text": [
      "TLNGFGMFN\n",
      "CMZ\n"
     ]
    }
   ],
   "source": [
    "def get_top_crates(crates):\n",
    "    crate_list = crates[0].split('\\n')\n",
    "    instructions = crates[1].split('\\n')\n",
    "\n",
    "    # Put every element row-wise into a list, then cast to dataframe\n",
    "    crate_df = pd.DataFrame([re.findall('....?', x) for x in crate_list[:-1]][::-1]).fillna(' ')\n",
    "\n",
    "    # Transpose the df so the rows are now each crate stack, then get just the crate letters\n",
    "    crate_dict = {}\n",
    "    for idx, row in crate_df.transpose().iterrows():\n",
    "        crate_dict[idx+1] = [re.findall('[A-Z]', x)[0] for x in row.values if re.findall('[A-Z]', x)]\n",
    "\n",
    "    # Get the numbers from the instruction list and cast them to int\n",
    "    instruction_list = [[int(y) for y in re.findall('\\d+', x)] for x in instructions]\n",
    "    \n",
    "    # Move the crates\n",
    "    for instruction in instruction_list:\n",
    "        move_count, from_crate, to_crate = instruction\n",
    "        for i in range(move_count):\n",
    "            move_from = crate_dict[from_crate][-1]\n",
    "            crate_dict[to_crate].extend(move_from)    \n",
    "            crate_dict[from_crate] = crate_dict[from_crate][:-1]\n",
    "\n",
    "    return ''.join([crate_dict[i+1][-1] for i in range(len(crate_dict))])\n",
    "\n",
    "print(get_top_crates(crates))\n",
    "print(get_top_crates(crates_test))"
   ]
  },
  {
   "cell_type": "markdown",
   "id": "109d261f",
   "metadata": {},
   "source": [
    "### Part 2"
   ]
  },
  {
   "cell_type": "code",
   "execution_count": 195,
   "id": "b6841451",
   "metadata": {},
   "outputs": [
    {
     "name": "stdout",
     "output_type": "stream",
     "text": [
      "FGLQJCMBD\n",
      "MCD\n"
     ]
    }
   ],
   "source": [
    "def get_top_crates_again(crates):\n",
    "    crate_list = crates[0].split('\\n')\n",
    "    instructions = crates[1].split('\\n')\n",
    "\n",
    "    # Put every element row-wise into a list, then cast to dataframe\n",
    "    crate_df = pd.DataFrame([re.findall('....?', x) for x in crate_list[:-1]][::-1]).fillna(' ')\n",
    "\n",
    "    # Transpose the df so the rows are now each crate stack, then get just the crate letters\n",
    "    crate_dict = {}\n",
    "    for idx, row in crate_df.transpose().iterrows():\n",
    "        crate_dict[idx+1] = [re.findall('[A-Z]', x)[0] for x in row.values if re.findall('[A-Z]', x)]\n",
    "\n",
    "    # Get the numbers from the instruction list and cast them to int\n",
    "    instruction_list = [[int(y) for y in re.findall('\\d+', x)] for x in instructions]\n",
    "    \n",
    "    # Move the crates\n",
    "    for instruction in instruction_list:\n",
    "        move_count, from_crate, to_crate = instruction\n",
    "        move_from = crate_dict[from_crate][-move_count:]\n",
    "        crate_dict[to_crate].extend(move_from)    \n",
    "        crate_dict[from_crate] = crate_dict[from_crate][:-move_count]\n",
    "\n",
    "    return ''.join([crate_dict[i+1][-1] for i in range(len(crate_dict))])\n",
    "\n",
    "print(get_top_crates_again(crates))\n",
    "print(get_top_crates_again(crates_test))"
   ]
  },
  {
   "cell_type": "markdown",
   "id": "74ba47f0",
   "metadata": {},
   "source": [
    "## Day 6"
   ]
  },
  {
   "cell_type": "code",
   "execution_count": null,
   "id": "13ec3384",
   "metadata": {},
   "outputs": [],
   "source": []
  }
 ],
 "metadata": {
  "kernelspec": {
   "display_name": "Python 3 (ipykernel)",
   "language": "python",
   "name": "python3"
  },
  "language_info": {
   "codemirror_mode": {
    "name": "ipython",
    "version": 3
   },
   "file_extension": ".py",
   "mimetype": "text/x-python",
   "name": "python",
   "nbconvert_exporter": "python",
   "pygments_lexer": "ipython3",
   "version": "3.9.7"
  }
 },
 "nbformat": 4,
 "nbformat_minor": 5
}
